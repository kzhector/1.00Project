{
  "nbformat": 4,
  "nbformat_minor": 0,
  "metadata": {
    "colab": {
      "provenance": [],
      "authorship_tag": "ABX9TyNBhX3KwVHusnE9Acjw76LV",
      "include_colab_link": true
    },
    "kernelspec": {
      "name": "python3",
      "display_name": "Python 3"
    },
    "language_info": {
      "name": "python"
    }
  },
  "cells": [
    {
      "cell_type": "markdown",
      "metadata": {
        "id": "view-in-github",
        "colab_type": "text"
      },
      "source": [
        "<a href=\"https://colab.research.google.com/github/kzhector/1.00Project/blob/main/Splitting_the_Biodiversity_Data_and_Wildfire_Data_Into_Parts.ipynb\" target=\"_parent\"><img src=\"https://colab.research.google.com/assets/colab-badge.svg\" alt=\"Open In Colab\"/></a>"
      ]
    },
    {
      "cell_type": "code",
      "execution_count": null,
      "metadata": {
        "colab": {
          "base_uri": "https://localhost:8080/"
        },
        "id": "Q3IJD1AQuodi",
        "outputId": "bf20e348-1a3b-4b82-d376-779063149cfd"
      },
      "outputs": [
        {
          "output_type": "stream",
          "name": "stdout",
          "text": [
            "Drive already mounted at /content/drive; to attempt to forcibly remount, call drive.mount(\"/content/drive\", force_remount=True).\n"
          ]
        }
      ],
      "source": [
        "from google.colab import drive\n",
        "drive.mount('/content/drive')"
      ]
    },
    {
      "cell_type": "code",
      "source": [
        "import csv"
      ],
      "metadata": {
        "id": "rlSIyxpVu4Zy"
      },
      "execution_count": null,
      "outputs": []
    },
    {
      "cell_type": "markdown",
      "source": [
        "Biodiversity"
      ],
      "metadata": {
        "id": "q0egT4di5Z-4"
      }
    },
    {
      "cell_type": "code",
      "source": [
        "#read csv file\n",
        "with open('/content/drive/MyDrive/1.00 Project/Biodiversity Data/Bio.csv', 'r') as f:\n",
        "    reader = csv.reader(f)\n",
        "    data = list(reader)"
      ],
      "metadata": {
        "id": "bOwbP552u5DJ"
      },
      "execution_count": null,
      "outputs": []
    },
    {
      "cell_type": "code",
      "source": [
        "print(len(data))"
      ],
      "metadata": {
        "colab": {
          "base_uri": "https://localhost:8080/"
        },
        "id": "F9AVOWuxu7eb",
        "outputId": "109bf48b-6a21-489f-d706-2b0f7b7a482f"
      },
      "execution_count": null,
      "outputs": [
        {
          "output_type": "stream",
          "name": "stdout",
          "text": [
            "8206359\n"
          ]
        }
      ]
    },
    {
      "cell_type": "code",
      "source": [
        "#split data into 17 sets\n",
        "#length of each set  =  482727\n",
        "#write new csv file\n",
        "for i in range(1,18):\n",
        "  with open('/content/drive/MyDrive/1.00 Project/Biodiversity Data/Bio{0}.csv'.format(i), 'w') as f:\n",
        "      writer = csv.writer(f)\n",
        "      writer.writerows(data[(i-1)*482727:i*482727])"
      ],
      "metadata": {
        "id": "-af2i988wDmT"
      },
      "execution_count": null,
      "outputs": []
    },
    {
      "cell_type": "markdown",
      "source": [
        "Wildfires"
      ],
      "metadata": {
        "id": "FN_1a6IV5XOL"
      }
    },
    {
      "cell_type": "code",
      "source": [
        "#read csv file\n",
        "with open('/content/drive/MyDrive/1.00 Project/fire_data.csv', 'r') as f:\n",
        "    reader = csv.reader(f)\n",
        "    data = list(reader)\n",
        "    "
      ],
      "metadata": {
        "id": "cIWa-bhMyVJn"
      },
      "execution_count": null,
      "outputs": []
    },
    {
      "cell_type": "code",
      "source": [
        "print(len(data))"
      ],
      "metadata": {
        "colab": {
          "base_uri": "https://localhost:8080/"
        },
        "id": "yzBAfjhFyZp4",
        "outputId": "dceaf7c2-081c-4b43-b9d0-61c3748f5975"
      },
      "execution_count": null,
      "outputs": [
        {
          "output_type": "stream",
          "name": "stdout",
          "text": [
            "1880466\n"
          ]
        }
      ]
    },
    {
      "cell_type": "code",
      "source": [
        "keys = data[0]"
      ],
      "metadata": {
        "id": "w54PsJGU3ian"
      },
      "execution_count": null,
      "outputs": []
    },
    {
      "cell_type": "code",
      "source": [
        "print(keys)"
      ],
      "metadata": {
        "colab": {
          "base_uri": "https://localhost:8080/"
        },
        "id": "9vf8LZCj3kbV",
        "outputId": "7c6a7958-6252-44d1-b3ad-6035e6cd72bf"
      },
      "execution_count": null,
      "outputs": [
        {
          "output_type": "stream",
          "name": "stdout",
          "text": [
            "['0', '1', '2', '3', '4', '5', '6', '7', '8', '9', '10', '11', '12', '13', '14', '15', '16', '17', '18', '19', '20', '21', '22', '23', '24', '25', '26', '27', '28', '29', '30', '31', '32', '33', '34', '35', '36', '37', '38']\n"
          ]
        }
      ]
    },
    {
      "cell_type": "code",
      "source": [
        "#split into 7 sets\n",
        "#length of each set = 268638\n",
        "for i in range(1,8):\n",
        "  print(i)\n",
        "  with open('/content/drive/MyDrive/1.00 Project/Fire Data/fire{}.csv'.format(i), 'w') as f:\n",
        "      writer = csv.writer(f)\n",
        "      writer.writerow(keys)\n",
        "      writer.writerows(data[(i-1)*268638:i*268638])"
      ],
      "metadata": {
        "id": "nSNk8fPjybzd",
        "colab": {
          "base_uri": "https://localhost:8080/"
        },
        "outputId": "85be0a58-fb6e-44b5-88b2-960c2046867d"
      },
      "execution_count": null,
      "outputs": [
        {
          "output_type": "stream",
          "name": "stdout",
          "text": [
            "1\n",
            "2\n",
            "3\n",
            "4\n",
            "5\n",
            "6\n",
            "7\n"
          ]
        }
      ]
    }
  ]
}