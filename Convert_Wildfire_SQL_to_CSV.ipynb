{
  "nbformat": 4,
  "nbformat_minor": 0,
  "metadata": {
    "colab": {
      "provenance": [],
      "authorship_tag": "ABX9TyNPc2dP08mioOy36A0DtaRN",
      "include_colab_link": true
    },
    "kernelspec": {
      "name": "python3",
      "display_name": "Python 3"
    },
    "language_info": {
      "name": "python"
    }
  },
  "cells": [
    {
      "cell_type": "markdown",
      "metadata": {
        "id": "view-in-github",
        "colab_type": "text"
      },
      "source": [
        "<a href=\"https://colab.research.google.com/github/kzhector/1.00Project/blob/main/Convert_Wildfire_SQL_to_CSV.ipynb\" target=\"_parent\"><img src=\"https://colab.research.google.com/assets/colab-badge.svg\" alt=\"Open In Colab\"/></a>"
      ]
    },
    {
      "cell_type": "code",
      "execution_count": null,
      "metadata": {
        "id": "Egp9o4OtpY5k"
      },
      "outputs": [],
      "source": [
        "from google.colab import drive\n",
        "drive.mount('/content/drive')"
      ]
    },
    {
      "cell_type": "code",
      "source": [
        "import csv\n",
        "import pandas as pd\n",
        "import numpy as np"
      ],
      "metadata": {
        "id": "cW6eQltXpsqd"
      },
      "execution_count": null,
      "outputs": []
    },
    {
      "cell_type": "code",
      "source": [
        "import sqlite3\n",
        "conn = sqlite3.connect(\"/content/drive/MyDrive/1.00 Project/FPA_FOD_20170508.sqlite/FPA_FOD_20170508.sqlite\")\n",
        "\n",
        "cursor = conn.cursor()\n",
        "cursor.execute('SELECT * from Fires')\n",
        "\n",
        "rows = cursor.fetchall()\n",
        "fire_data = pd.DataFrame(rows)\n",
        "cursor.close()\n",
        "conn.close()\n",
        "\n",
        "fire_data.to_csv(\"/content/drive/MyDrive/1.00 Project/fire_data.csv\", index = False)\n"
      ],
      "metadata": {
        "id": "6daFHZ2mpusl"
      },
      "execution_count": null,
      "outputs": []
    }
  ]
}