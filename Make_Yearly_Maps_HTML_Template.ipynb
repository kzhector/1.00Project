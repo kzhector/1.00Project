{
  "nbformat": 4,
  "nbformat_minor": 0,
  "metadata": {
    "colab": {
      "provenance": [],
      "authorship_tag": "ABX9TyPfsjdD55s5tlp4OF2cRBR6",
      "include_colab_link": true
    },
    "kernelspec": {
      "name": "python3",
      "display_name": "Python 3"
    },
    "language_info": {
      "name": "python"
    }
  },
  "cells": [
    {
      "cell_type": "markdown",
      "metadata": {
        "id": "view-in-github",
        "colab_type": "text"
      },
      "source": [
        "<a href=\"https://colab.research.google.com/github/kzhector/1.00Project/blob/main/Make_Yearly_Maps_HTML_Template.ipynb\" target=\"_parent\"><img src=\"https://colab.research.google.com/assets/colab-badge.svg\" alt=\"Open In Colab\"/></a>"
      ]
    },
    {
      "cell_type": "code",
      "source": [
        "from google.colab import drive\n",
        "drive.mount('/content/drive')"
      ],
      "metadata": {
        "colab": {
          "base_uri": "https://localhost:8080/"
        },
        "id": "jF_PsvgDC5sj",
        "outputId": "3e556039-d058-4169-a356-30036c72a5d5"
      },
      "execution_count": null,
      "outputs": [
        {
          "output_type": "stream",
          "name": "stdout",
          "text": [
            "Drive already mounted at /content/drive; to attempt to forcibly remount, call drive.mount(\"/content/drive\", force_remount=True).\n"
          ]
        }
      ]
    },
    {
      "cell_type": "code",
      "execution_count": null,
      "metadata": {
        "id": "Ju3gc8ceCug4",
        "colab": {
          "base_uri": "https://localhost:8080/"
        },
        "outputId": "5f3ad2e5-5e8a-4ee6-bff1-431b8833b6df"
      },
      "outputs": [
        {
          "output_type": "stream",
          "name": "stdout",
          "text": [
            "Looking in indexes: https://pypi.org/simple, https://us-python.pkg.dev/colab-wheels/public/simple/\n",
            "Requirement already satisfied: folium in /usr/local/lib/python3.10/dist-packages (0.14.0)\n",
            "Requirement already satisfied: pandas in /usr/local/lib/python3.10/dist-packages (1.5.3)\n",
            "Requirement already satisfied: numpy in /usr/local/lib/python3.10/dist-packages (from folium) (1.22.4)\n",
            "Requirement already satisfied: branca>=0.6.0 in /usr/local/lib/python3.10/dist-packages (from folium) (0.6.0)\n",
            "Requirement already satisfied: jinja2>=2.9 in /usr/local/lib/python3.10/dist-packages (from folium) (3.1.2)\n",
            "Requirement already satisfied: requests in /usr/local/lib/python3.10/dist-packages (from folium) (2.27.1)\n",
            "Requirement already satisfied: python-dateutil>=2.8.1 in /usr/local/lib/python3.10/dist-packages (from pandas) (2.8.2)\n",
            "Requirement already satisfied: pytz>=2020.1 in /usr/local/lib/python3.10/dist-packages (from pandas) (2022.7.1)\n",
            "Requirement already satisfied: MarkupSafe>=2.0 in /usr/local/lib/python3.10/dist-packages (from jinja2>=2.9->folium) (2.1.2)\n",
            "Requirement already satisfied: six>=1.5 in /usr/local/lib/python3.10/dist-packages (from python-dateutil>=2.8.1->pandas) (1.16.0)\n",
            "Requirement already satisfied: urllib3<1.27,>=1.21.1 in /usr/local/lib/python3.10/dist-packages (from requests->folium) (1.26.15)\n",
            "Requirement already satisfied: certifi>=2017.4.17 in /usr/local/lib/python3.10/dist-packages (from requests->folium) (2022.12.7)\n",
            "Requirement already satisfied: charset-normalizer~=2.0.0 in /usr/local/lib/python3.10/dist-packages (from requests->folium) (2.0.12)\n",
            "Requirement already satisfied: idna<4,>=2.5 in /usr/local/lib/python3.10/dist-packages (from requests->folium) (3.4)\n"
          ]
        }
      ],
      "source": [
        "!pip install folium pandas"
      ]
    },
    {
      "cell_type": "code",
      "source": [
        "import csv\n",
        "import pandas as pd\n",
        "import numpy as np\n",
        "import folium"
      ],
      "metadata": {
        "id": "EXOZc3C90rao"
      },
      "execution_count": null,
      "outputs": []
    },
    {
      "cell_type": "markdown",
      "source": [
        "Make three maps per year (1 map showing the beginning of the year) (1 map showing the end of the year) and 1 map showing the differences)"
      ],
      "metadata": {
        "id": "KRuNvp3jlln1"
      }
    },
    {
      "cell_type": "code",
      "source": [
        "keys = ['species', 'country', 'state','bio_lat', 'bio_lon', 'bio_date', 'bio_day', 'bio_month', 'year', 'FOD_ID', 'FIRE_CODE', 'Acres_Burned', 'fire_lat','fire_lon']"
      ],
      "metadata": {
        "id": "CRb_-wRW1piO"
      },
      "execution_count": null,
      "outputs": []
    },
    {
      "cell_type": "code",
      "source": [
        "#get the full dates of the fires\n",
        "fire_dates = pd.read_csv(\"/content/drive/MyDrive/1.00 Project/fire_data.csv\")"
      ],
      "metadata": {
        "colab": {
          "base_uri": "https://localhost:8080/"
        },
        "id": "d_1289def_SP",
        "outputId": "f10bb34e-3d2f-4285-ef74-9809def1afac"
      },
      "execution_count": null,
      "outputs": [
        {
          "output_type": "stream",
          "name": "stderr",
          "text": [
            "<ipython-input-14-22c1640e18d6>:2: DtypeWarning: Columns (8,10,11,12,13,14,15,16,17,18,35,37) have mixed types. Specify dtype option on import or set low_memory=False.\n",
            "  fire_dates = pd.read_csv(\"/content/drive/MyDrive/1.00 Project/fire_data.csv\")\n"
          ]
        }
      ]
    },
    {
      "cell_type": "code",
      "source": [
        "leap_years = [1992,1996,2000,2004,2008,2012]"
      ],
      "metadata": {
        "id": "HDCNzhVSjlTf"
      },
      "execution_count": null,
      "outputs": []
    },
    {
      "cell_type": "code",
      "source": [
        "list_of_maps = []\n",
        "for year in range(1992,2016):\n",
        "  b4 = pd.read_csv('/content/drive/MyDrive/1.00 Project/Analyzed By Year/B{0}.csv'.format(year))\n",
        "  b4['species'] = b4['species'].astype(str)\n",
        "  b4['state'] = b4['state'].astype(str)\n",
        "  b4['year'] = b4['year'].astype(str)\n",
        "  gb4 = b4.groupby('FOD_ID')\n",
        "  after = pd.read_csv('/content/drive/MyDrive/1.00 Project/Analyzed By Year/E{0}.csv'.format(year))\n",
        "  after['species'] = after['species'].astype(str)\n",
        "  after['state'] = after['state'].astype(str)\n",
        "  gafter = b4.groupby('FOD_ID')\n",
        "  m = folium.Map(location=[42, -102],tiles ='Stamen Terrain',\n",
        "               zoom_start=4.4)\n",
        "  for fire in np.unique(b4['FOD_ID']):\n",
        "    if fire in np.unique(after['FOD_ID']):\n",
        "      #print(np.unique(b4[b4['FOD_ID']==fire]['FOD_ID'])[0])\n",
        "      num_days = fire_dates[fire_dates['0'] == float(np.unique(b4[b4['FOD_ID']==fire]['FOD_ID'])[0])]['21']\n",
        "      num_days = int(num_days)\n",
        "      \n",
        "      year = np.unique(b4[b4['FOD_ID']==fire]['year'])[0]\n",
        "\n",
        "\n",
        "      if year not in leap_years:\n",
        "        if num_days <= 31:\n",
        "          time = str(year)+'-01'+'-{0}'.format(str(num_days).zfill(2))\n",
        "        elif num_days <= 59:\n",
        "          time = str(year)+'-02'+'-{0}'.format(str(num_days-31).zfill(2))\n",
        "        elif num_days <= 90:\n",
        "          time = str(year)+'-03'+'-{0}'.format(str(num_days-59).zfill(2))\n",
        "        elif num_days <= 120:\n",
        "          time = str(year)+'-04'+'-{0}'.format(str(num_days-90).zfill(2))\n",
        "        elif num_days <= 151:\n",
        "          time = str(year)+'-05'+'-{0}'.format(str(num_days-120).zfill(2))\n",
        "        elif num_days <= 181:\n",
        "          time = str(year)+'-06'+'-{0}'.format(str(num_days-151).zfill(2))\n",
        "        elif num_days <= 212:\n",
        "          time = str(year)+'-07'+'-{0}'.format(str(num_days-181).zfill(2))\n",
        "        elif num_days <= 243:\n",
        "          time = str(year)+'-08'+'-{0}'.format(str(num_days-212).zfill(2))\n",
        "        elif num_days <= 273:\n",
        "          time = str(year)+'-09'+'-{0}'.format(str(num_days-243).zfill(2))\n",
        "        elif num_days <= 304:\n",
        "          time = str(year)+'-10'+'-{0}'.format(str(num_days-273).zfill(2))\n",
        "        elif num_days <= 334:\n",
        "          time = str(year)+'-11'+'-{0}'.format(str(num_days-304).zfill(2))\n",
        "        elif num_days <= 365:\n",
        "          time = str(year)+'-12'+'-{0}'.format(str(num_days-334).zfill(2))\n",
        "\n",
        "      if year in leap_years:\n",
        "        if num_days <= 31:\n",
        "          time = str(year)+'-01'+'-{0}'.format(num_days.zfill(2))\n",
        "        elif num_days <= 60:\n",
        "          time = str(year)+'-02'+'-{0}'.format(str(num_days-31).zfill(2))\n",
        "        elif num_days <= 91:\n",
        "          time = str(year)+'-03'+'-{0}'.format(str(num_days-60).zfill(2))\n",
        "        elif num_days <= 121:\n",
        "          time = str(year)+'-04'+'-{0}'.format(str(num_days-91).zfill(2))\n",
        "        elif num_days <= 152:\n",
        "          time = str(year)+'-05'+'-{0}'.format(str(num_days-121).zfill(2))\n",
        "        elif num_days <= 182:\n",
        "          time = str(year)+'-06'+'-{0}'.format(str(num_days-152).zfill(2))\n",
        "        elif num_days <= 213:\n",
        "          time = str(year)+'-07'+'-{0}'.format(str(num_days-182).zfill(2))\n",
        "        elif num_days <= 244:\n",
        "          time = str(year)+'-08'+'-{0}'.format(str(num_days-213).zfill(2))\n",
        "        elif num_days <= 274:\n",
        "          time = str(year)+'-09'+'-{0}'.format(str(num_days-244).zfill(2))\n",
        "        elif num_days <= 305:\n",
        "          time = str(year)+'-10'+'-{0}'.format(str(num_days-274).zfill(2))\n",
        "        elif num_days <= 335:\n",
        "          time = str(year)+'-11'+'-{0}'.format(str(num_days-305).zfill(2))\n",
        "        elif num_days <= 366:\n",
        "          time = str(year)+'-12'+'-{0}'.format(str(num_days-335).zfill(2))\n",
        "      c = gb4.get_group(fire)\n",
        "      d = gafter.get_group(fire)\n",
        "      \n",
        "      change = str(len(np.unique(c['species'])) - len(np.unique(d['species']))) \n",
        "\n",
        "\n",
        "\n",
        "      table = \"\"\"\\\n",
        "      <table style=\\'width:100%\\'>\n",
        "      <table style=\\'border: 1px solid\\'>\n",
        "        <tr>\n",
        "          <th style=\\'border: 1px solid\\'>Date</th>\n",
        "          <th style=\\'border: 1px solid\\'>FOD ID</th>\n",
        "          <th style=\\'border: 1px solid\\'>Acres Burned</th>\n",
        "          <th style=\\'border: 1px solid\\'>Top 10 Species Present Before</th>\n",
        "          <th style=\\'border: 1px solid\\'>Top 10 Species Present After</th>\n",
        "          <th style=\\'border: 1px solid\\'>Difference</th>\n",
        "        </tr>\n",
        "        <tr>\n",
        "          <td style=\\'border: 1px solid\\'>{0}</td>\n",
        "          <td style=\\'border: 1px solid\\'>{1}</td>\n",
        "          <td style=\\'border: 1px solid\\'>{2}</td>\n",
        "          <td style=\\'border: 1px solid\\'>{3}</td>\n",
        "          <td style=\\'border: 1px solid\\'>{4}</td>\n",
        "          <td style=\\'border: 1px solid\\'>{5}</td>\n",
        "        </tr>\n",
        "      </table>\n",
        "      \"\"\".format(time,str(fire).replace('.0',''),str(np.unique(c['Acres_Burned'])[0]), list(np.unique(c['species']))[:9],list(np.unique(d['species']))[:9],change)\n",
        "      \n",
        "      \n",
        "\n",
        "\n",
        "      marker = folium.Marker([float(np.unique(c['fire_lat'])[0]),float(np.unique(c['fire_lon'])[0]) ],\n",
        "                            popup=table).add_to(m)\n",
        "  list_of_maps.append(m)"
      ],
      "metadata": {
        "id": "2IBgZgXmATry"
      },
      "execution_count": null,
      "outputs": []
    },
    {
      "cell_type": "code",
      "source": [
        "list_of_maps[7]"
      ],
      "metadata": {
        "colab": {
          "base_uri": "https://localhost:8080/",
          "height": 712
        },
        "id": "I31luRvDE4At",
        "outputId": "e3084437-c7bc-485d-bab6-86160c2a9c45"
      },
      "execution_count": null,
      "outputs": [
        {
          "output_type": "execute_result",
          "data": {
            "text/plain": [
              "<folium.folium.Map at 0x7fc0973b6cb0>"
            ],
            "text/html": [
              "<div style=\"width:100%;\"><div style=\"position:relative;width:100%;height:0;padding-bottom:60%;\"><span style=\"color:#565656\">Make this Notebook Trusted to load map: File -> Trust Notebook</span><iframe srcdoc=\"&lt;!DOCTYPE html&gt;\n",
              "&lt;html&gt;\n",
              "&lt;head&gt;\n",
              "    \n",
              "    &lt;meta http-equiv=&quot;content-type&quot; content=&quot;text/html; charset=UTF-8&quot; /&gt;\n",
              "    \n",
              "        &lt;script&gt;\n",
              "            L_NO_TOUCH = false;\n",
              "            L_DISABLE_3D = false;\n",
              "        &lt;/script&gt;\n",
              "    \n",
              "    &lt;style&gt;html, body {width: 100%;height: 100%;margin: 0;padding: 0;}&lt;/style&gt;\n",
              "    &lt;style&gt;#map {position:absolute;top:0;bottom:0;right:0;left:0;}&lt;/style&gt;\n",
              "    &lt;script src=&quot;https://cdn.jsdelivr.net/npm/leaflet@1.9.3/dist/leaflet.js&quot;&gt;&lt;/script&gt;\n",
              "    &lt;script src=&quot;https://code.jquery.com/jquery-1.12.4.min.js&quot;&gt;&lt;/script&gt;\n",
              "    &lt;script src=&quot;https://cdn.jsdelivr.net/npm/bootstrap@5.2.2/dist/js/bootstrap.bundle.min.js&quot;&gt;&lt;/script&gt;\n",
              "    &lt;script src=&quot;https://cdnjs.cloudflare.com/ajax/libs/Leaflet.awesome-markers/2.0.2/leaflet.awesome-markers.js&quot;&gt;&lt;/script&gt;\n",
              "    &lt;link rel=&quot;stylesheet&quot; href=&quot;https://cdn.jsdelivr.net/npm/leaflet@1.9.3/dist/leaflet.css&quot;/&gt;\n",
              "    &lt;link rel=&quot;stylesheet&quot; href=&quot;https://cdn.jsdelivr.net/npm/bootstrap@5.2.2/dist/css/bootstrap.min.css&quot;/&gt;\n",
              "    &lt;link rel=&quot;stylesheet&quot; href=&quot;https://netdna.bootstrapcdn.com/bootstrap/3.0.0/css/bootstrap.min.css&quot;/&gt;\n",
              "    &lt;link rel=&quot;stylesheet&quot; href=&quot;https://cdn.jsdelivr.net/npm/@fortawesome/fontawesome-free@6.2.0/css/all.min.css&quot;/&gt;\n",
              "    &lt;link rel=&quot;stylesheet&quot; href=&quot;https://cdnjs.cloudflare.com/ajax/libs/Leaflet.awesome-markers/2.0.2/leaflet.awesome-markers.css&quot;/&gt;\n",
              "    &lt;link rel=&quot;stylesheet&quot; href=&quot;https://cdn.jsdelivr.net/gh/python-visualization/folium/folium/templates/leaflet.awesome.rotate.min.css&quot;/&gt;\n",
              "    \n",
              "            &lt;meta name=&quot;viewport&quot; content=&quot;width=device-width,\n",
              "                initial-scale=1.0, maximum-scale=1.0, user-scalable=no&quot; /&gt;\n",
              "            &lt;style&gt;\n",
              "                #map_4e199dc62111aefebd89d8c26769d8de {\n",
              "                    position: relative;\n",
              "                    width: 100.0%;\n",
              "                    height: 100.0%;\n",
              "                    left: 0.0%;\n",
              "                    top: 0.0%;\n",
              "                }\n",
              "                .leaflet-container { font-size: 1rem; }\n",
              "            &lt;/style&gt;\n",
              "        \n",
              "&lt;/head&gt;\n",
              "&lt;body&gt;\n",
              "    \n",
              "    \n",
              "            &lt;div class=&quot;folium-map&quot; id=&quot;map_4e199dc62111aefebd89d8c26769d8de&quot; &gt;&lt;/div&gt;\n",
              "        \n",
              "&lt;/body&gt;\n",
              "&lt;script&gt;\n",
              "    \n",
              "    \n",
              "            var map_4e199dc62111aefebd89d8c26769d8de = L.map(\n",
              "                &quot;map_4e199dc62111aefebd89d8c26769d8de&quot;,\n",
              "                {\n",
              "                    center: [42.0, -102.0],\n",
              "                    crs: L.CRS.EPSG3857,\n",
              "                    zoom: 4.4,\n",
              "                    zoomControl: true,\n",
              "                    preferCanvas: false,\n",
              "                }\n",
              "            );\n",
              "\n",
              "            \n",
              "\n",
              "        \n",
              "    \n",
              "            var tile_layer_eafbf0f48a0c332288fdb538177aed32 = L.tileLayer(\n",
              "                &quot;https://stamen-tiles-{s}.a.ssl.fastly.net/terrain/{z}/{x}/{y}.jpg&quot;,\n",
              "                {&quot;attribution&quot;: &quot;Map tiles by \\u003ca target=\\&quot;_blank\\&quot; href=\\&quot;http://stamen.com\\&quot;\\u003eStamen Design\\u003c/a\\u003e, under \\u003ca target=\\&quot;_blank\\&quot; href=\\&quot;http://creativecommons.org/licenses/by/3.0\\&quot;\\u003eCC BY 3.0\\u003c/a\\u003e. Data by \\u0026copy; \\u003ca target=\\&quot;_blank\\&quot; href=\\&quot;http://openstreetmap.org\\&quot;\\u003eOpenStreetMap\\u003c/a\\u003e, under \\u003ca target=\\&quot;_blank\\&quot; href=\\&quot;http://creativecommons.org/licenses/by-sa/3.0\\&quot;\\u003eCC BY SA\\u003c/a\\u003e.&quot;, &quot;detectRetina&quot;: false, &quot;maxNativeZoom&quot;: 18, &quot;maxZoom&quot;: 18, &quot;minZoom&quot;: 0, &quot;noWrap&quot;: false, &quot;opacity&quot;: 1, &quot;subdomains&quot;: &quot;abc&quot;, &quot;tms&quot;: false}\n",
              "            ).addTo(map_4e199dc62111aefebd89d8c26769d8de);\n",
              "        \n",
              "    \n",
              "            var marker_7b4e2c18100578c198b297474ea51d4c = L.marker(\n",
              "                [26.2337, -80.7665],\n",
              "                {}\n",
              "            ).addTo(map_4e199dc62111aefebd89d8c26769d8de);\n",
              "        \n",
              "    \n",
              "        var popup_d3114d603f6760f7e2c37f924af9940a = L.popup({&quot;maxWidth&quot;: &quot;100%&quot;});\n",
              "\n",
              "        \n",
              "            \n",
              "                var html_9f4c95219d2019f856d5970ef023df39 = $(`&lt;div id=&quot;html_9f4c95219d2019f856d5970ef023df39&quot; style=&quot;width: 100.0%; height: 100.0%;&quot;&gt;      &lt;table style=&#x27;width:100%&#x27;&gt;       &lt;table style=&#x27;border: 1px solid&#x27;&gt;         &lt;tr&gt;           &lt;th style=&#x27;border: 1px solid&#x27;&gt;Date&lt;/th&gt;           &lt;th style=&#x27;border: 1px solid&#x27;&gt;FOD ID&lt;/th&gt;           &lt;th style=&#x27;border: 1px solid&#x27;&gt;Acres Burned&lt;/th&gt;           &lt;th style=&#x27;border: 1px solid&#x27;&gt;Top 10 Species Present Before&lt;/th&gt;           &lt;th style=&#x27;border: 1px solid&#x27;&gt;Top 10 Species Present After&lt;/th&gt;           &lt;th style=&#x27;border: 1px solid&#x27;&gt;Difference&lt;/th&gt;         &lt;/tr&gt;         &lt;tr&gt;           &lt;td style=&#x27;border: 1px solid&#x27;&gt;1999-04-19&lt;/td&gt;           &lt;td style=&#x27;border: 1px solid&#x27;&gt;174957&lt;/td&gt;           &lt;td style=&#x27;border: 1px solid&#x27;&gt;158000.0&lt;/td&gt;           &lt;td style=&#x27;border: 1px solid&#x27;&gt;[&#x27;Alligator mississippiensis&#x27;, &#x27;Coccyzus americanus&#x27;, &#x27;Coragyps atratus&#x27;, &#x27;Crocodylus acutus&#x27;, &#x27;Grus canadensis&#x27;, &#x27;Heteropoda venatoria&#x27;, &#x27;Limnodromus scolopaceus&#x27;, &#x27;Romalea microptera&#x27;, &#x27;Sciurus niger&#x27;]&lt;/td&gt;           &lt;td style=&#x27;border: 1px solid&#x27;&gt;[&#x27;Alligator mississippiensis&#x27;, &#x27;Coccyzus americanus&#x27;, &#x27;Coragyps atratus&#x27;, &#x27;Crocodylus acutus&#x27;, &#x27;Grus canadensis&#x27;, &#x27;Heteropoda venatoria&#x27;, &#x27;Limnodromus scolopaceus&#x27;, &#x27;Romalea microptera&#x27;, &#x27;Sciurus niger&#x27;]&lt;/td&gt;           &lt;td style=&#x27;border: 1px solid&#x27;&gt;0&lt;/td&gt;         &lt;/tr&gt;       &lt;/table&gt;       &lt;/div&gt;`)[0];\n",
              "                popup_d3114d603f6760f7e2c37f924af9940a.setContent(html_9f4c95219d2019f856d5970ef023df39);\n",
              "            \n",
              "        \n",
              "\n",
              "        marker_7b4e2c18100578c198b297474ea51d4c.bindPopup(popup_d3114d603f6760f7e2c37f924af9940a)\n",
              "        ;\n",
              "\n",
              "        \n",
              "    \n",
              "    \n",
              "            var marker_16f7a4c05568cd995857cd175b8dd176 = L.marker(\n",
              "                [43.0774, -113.36],\n",
              "                {}\n",
              "            ).addTo(map_4e199dc62111aefebd89d8c26769d8de);\n",
              "        \n",
              "    \n",
              "        var popup_3d3605773757e8077209cfdc5be24bc1 = L.popup({&quot;maxWidth&quot;: &quot;100%&quot;});\n",
              "\n",
              "        \n",
              "            \n",
              "                var html_de13021b80e17f89ebdf1842053c6791 = $(`&lt;div id=&quot;html_de13021b80e17f89ebdf1842053c6791&quot; style=&quot;width: 100.0%; height: 100.0%;&quot;&gt;      &lt;table style=&#x27;width:100%&#x27;&gt;       &lt;table style=&#x27;border: 1px solid&#x27;&gt;         &lt;tr&gt;           &lt;th style=&#x27;border: 1px solid&#x27;&gt;Date&lt;/th&gt;           &lt;th style=&#x27;border: 1px solid&#x27;&gt;FOD ID&lt;/th&gt;           &lt;th style=&#x27;border: 1px solid&#x27;&gt;Acres Burned&lt;/th&gt;           &lt;th style=&#x27;border: 1px solid&#x27;&gt;Top 10 Species Present Before&lt;/th&gt;           &lt;th style=&#x27;border: 1px solid&#x27;&gt;Top 10 Species Present After&lt;/th&gt;           &lt;th style=&#x27;border: 1px solid&#x27;&gt;Difference&lt;/th&gt;         &lt;/tr&gt;         &lt;tr&gt;           &lt;td style=&#x27;border: 1px solid&#x27;&gt;1999-08-03&lt;/td&gt;           &lt;td style=&#x27;border: 1px solid&#x27;&gt;224902&lt;/td&gt;           &lt;td style=&#x27;border: 1px solid&#x27;&gt;132208.0&lt;/td&gt;           &lt;td style=&#x27;border: 1px solid&#x27;&gt;[&#x27;Agelaius phoeniceus&#x27;, &#x27;Cervus elaphus&#x27;, &#x27;Corvus corax&#x27;, &#x27;Thecla sheridanii&#x27;, &#x27;Ursus americanus&#x27;, &#x27;Xanthocephalus xanthocephalus&#x27;]&lt;/td&gt;           &lt;td style=&#x27;border: 1px solid&#x27;&gt;[&#x27;Agelaius phoeniceus&#x27;, &#x27;Cervus elaphus&#x27;, &#x27;Corvus corax&#x27;, &#x27;Thecla sheridanii&#x27;, &#x27;Ursus americanus&#x27;, &#x27;Xanthocephalus xanthocephalus&#x27;]&lt;/td&gt;           &lt;td style=&#x27;border: 1px solid&#x27;&gt;0&lt;/td&gt;         &lt;/tr&gt;       &lt;/table&gt;       &lt;/div&gt;`)[0];\n",
              "                popup_3d3605773757e8077209cfdc5be24bc1.setContent(html_de13021b80e17f89ebdf1842053c6791);\n",
              "            \n",
              "        \n",
              "\n",
              "        marker_16f7a4c05568cd995857cd175b8dd176.bindPopup(popup_3d3605773757e8077209cfdc5be24bc1)\n",
              "        ;\n",
              "\n",
              "        \n",
              "    \n",
              "    \n",
              "            var marker_ea2d6e9e6282f1cee632c1b255931cb2 = L.marker(\n",
              "                [40.1616, -116.0009],\n",
              "                {}\n",
              "            ).addTo(map_4e199dc62111aefebd89d8c26769d8de);\n",
              "        \n",
              "    \n",
              "        var popup_84a47823872559f5627556243b80d007 = L.popup({&quot;maxWidth&quot;: &quot;100%&quot;});\n",
              "\n",
              "        \n",
              "            \n",
              "                var html_85879b7ecdae50c0305e298fc041548b = $(`&lt;div id=&quot;html_85879b7ecdae50c0305e298fc041548b&quot; style=&quot;width: 100.0%; height: 100.0%;&quot;&gt;      &lt;table style=&#x27;width:100%&#x27;&gt;       &lt;table style=&#x27;border: 1px solid&#x27;&gt;         &lt;tr&gt;           &lt;th style=&#x27;border: 1px solid&#x27;&gt;Date&lt;/th&gt;           &lt;th style=&#x27;border: 1px solid&#x27;&gt;FOD ID&lt;/th&gt;           &lt;th style=&#x27;border: 1px solid&#x27;&gt;Acres Burned&lt;/th&gt;           &lt;th style=&#x27;border: 1px solid&#x27;&gt;Top 10 Species Present Before&lt;/th&gt;           &lt;th style=&#x27;border: 1px solid&#x27;&gt;Top 10 Species Present After&lt;/th&gt;           &lt;th style=&#x27;border: 1px solid&#x27;&gt;Difference&lt;/th&gt;         &lt;/tr&gt;         &lt;tr&gt;           &lt;td style=&#x27;border: 1px solid&#x27;&gt;1999-08-05&lt;/td&gt;           &lt;td style=&#x27;border: 1px solid&#x27;&gt;227984&lt;/td&gt;           &lt;td style=&#x27;border: 1px solid&#x27;&gt;199288.0&lt;/td&gt;           &lt;td style=&#x27;border: 1px solid&#x27;&gt;[&#x27;Agelaius phoeniceus&#x27;, &#x27;Canis latrans&#x27;, &#x27;Corvus corax&#x27;, &#x27;Euconulus fulvus&#x27;, &#x27;Phrynosoma blainvillii&#x27;, &#x27;Thecla sheridanii&#x27;, &#x27;Ursus americanus&#x27;, &#x27;Xanthocephalus xanthocephalus&#x27;, &#x27;nan&#x27;]&lt;/td&gt;           &lt;td style=&#x27;border: 1px solid&#x27;&gt;[&#x27;Agelaius phoeniceus&#x27;, &#x27;Canis latrans&#x27;, &#x27;Corvus corax&#x27;, &#x27;Euconulus fulvus&#x27;, &#x27;Phrynosoma blainvillii&#x27;, &#x27;Thecla sheridanii&#x27;, &#x27;Ursus americanus&#x27;, &#x27;Xanthocephalus xanthocephalus&#x27;, &#x27;nan&#x27;]&lt;/td&gt;           &lt;td style=&#x27;border: 1px solid&#x27;&gt;0&lt;/td&gt;         &lt;/tr&gt;       &lt;/table&gt;       &lt;/div&gt;`)[0];\n",
              "                popup_84a47823872559f5627556243b80d007.setContent(html_85879b7ecdae50c0305e298fc041548b);\n",
              "            \n",
              "        \n",
              "\n",
              "        marker_ea2d6e9e6282f1cee632c1b255931cb2.bindPopup(popup_84a47823872559f5627556243b80d007)\n",
              "        ;\n",
              "\n",
              "        \n",
              "    \n",
              "    \n",
              "            var marker_7a4e69ff810f266557136e6e9d1b460f = L.marker(\n",
              "                [40.5857, -118.499],\n",
              "                {}\n",
              "            ).addTo(map_4e199dc62111aefebd89d8c26769d8de);\n",
              "        \n",
              "    \n",
              "        var popup_ee1c260b5904dee4f5188730545849a3 = L.popup({&quot;maxWidth&quot;: &quot;100%&quot;});\n",
              "\n",
              "        \n",
              "            \n",
              "                var html_7ad7bc42412fe42590a8d79449a7c287 = $(`&lt;div id=&quot;html_7ad7bc42412fe42590a8d79449a7c287&quot; style=&quot;width: 100.0%; height: 100.0%;&quot;&gt;      &lt;table style=&#x27;width:100%&#x27;&gt;       &lt;table style=&#x27;border: 1px solid&#x27;&gt;         &lt;tr&gt;           &lt;th style=&#x27;border: 1px solid&#x27;&gt;Date&lt;/th&gt;           &lt;th style=&#x27;border: 1px solid&#x27;&gt;FOD ID&lt;/th&gt;           &lt;th style=&#x27;border: 1px solid&#x27;&gt;Acres Burned&lt;/th&gt;           &lt;th style=&#x27;border: 1px solid&#x27;&gt;Top 10 Species Present Before&lt;/th&gt;           &lt;th style=&#x27;border: 1px solid&#x27;&gt;Top 10 Species Present After&lt;/th&gt;           &lt;th style=&#x27;border: 1px solid&#x27;&gt;Difference&lt;/th&gt;         &lt;/tr&gt;         &lt;tr&gt;           &lt;td style=&#x27;border: 1px solid&#x27;&gt;1999-08-04&lt;/td&gt;           &lt;td style=&#x27;border: 1px solid&#x27;&gt;230398&lt;/td&gt;           &lt;td style=&#x27;border: 1px solid&#x27;&gt;231389.0&lt;/td&gt;           &lt;td style=&#x27;border: 1px solid&#x27;&gt;[&#x27;Bassariscus astutus&#x27;, &#x27;Euconulus fulvus&#x27;, &#x27;Phrynosoma blainvillii&#x27;, &#x27;Thecla sheridanii&#x27;, &#x27;nan&#x27;]&lt;/td&gt;           &lt;td style=&#x27;border: 1px solid&#x27;&gt;[&#x27;Bassariscus astutus&#x27;, &#x27;Euconulus fulvus&#x27;, &#x27;Phrynosoma blainvillii&#x27;, &#x27;Thecla sheridanii&#x27;, &#x27;nan&#x27;]&lt;/td&gt;           &lt;td style=&#x27;border: 1px solid&#x27;&gt;0&lt;/td&gt;         &lt;/tr&gt;       &lt;/table&gt;       &lt;/div&gt;`)[0];\n",
              "                popup_ee1c260b5904dee4f5188730545849a3.setContent(html_7ad7bc42412fe42590a8d79449a7c287);\n",
              "            \n",
              "        \n",
              "\n",
              "        marker_7a4e69ff810f266557136e6e9d1b460f.bindPopup(popup_ee1c260b5904dee4f5188730545849a3)\n",
              "        ;\n",
              "\n",
              "        \n",
              "    \n",
              "&lt;/script&gt;\n",
              "&lt;/html&gt;\" style=\"position:absolute;width:100%;height:100%;left:0;top:0;border:none !important;\" allowfullscreen webkitallowfullscreen mozallowfullscreen></iframe></div></div>"
            ]
          },
          "metadata": {},
          "execution_count": 23
        }
      ]
    },
    {
      "cell_type": "code",
      "source": [
        "for i, map in enumerate(list_of_maps):\n",
        "  map.save('/content/drive/MyDrive/1.00 Project/map{0}.html'.format(i))"
      ],
      "metadata": {
        "id": "eHKBAPgIDyGE"
      },
      "execution_count": null,
      "outputs": []
    }
  ]
}