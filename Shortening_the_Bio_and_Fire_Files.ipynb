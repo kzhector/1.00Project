{
  "nbformat": 4,
  "nbformat_minor": 0,
  "metadata": {
    "colab": {
      "provenance": [],
      "authorship_tag": "ABX9TyOIWPbKx6pNKfmYJ1dBObV+",
      "include_colab_link": true
    },
    "kernelspec": {
      "name": "python3",
      "display_name": "Python 3"
    },
    "language_info": {
      "name": "python"
    }
  },
  "cells": [
    {
      "cell_type": "markdown",
      "metadata": {
        "id": "view-in-github",
        "colab_type": "text"
      },
      "source": [
        "<a href=\"https://colab.research.google.com/github/kzhector/1.00Project/blob/main/Shortening_the_Bio_and_Fire_Files.ipynb\" target=\"_parent\"><img src=\"https://colab.research.google.com/assets/colab-badge.svg\" alt=\"Open In Colab\"/></a>"
      ]
    },
    {
      "cell_type": "code",
      "execution_count": null,
      "metadata": {
        "colab": {
          "base_uri": "https://localhost:8080/"
        },
        "id": "17Unnt2O4Q88",
        "outputId": "5e4544d0-870d-4c59-edb4-3eb39d5b2f82"
      },
      "outputs": [
        {
          "output_type": "stream",
          "name": "stdout",
          "text": [
            "Drive already mounted at /content/drive; to attempt to forcibly remount, call drive.mount(\"/content/drive\", force_remount=True).\n"
          ]
        }
      ],
      "source": [
        "from google.colab import drive\n",
        "drive.mount('/content/drive')"
      ]
    },
    {
      "cell_type": "code",
      "source": [
        "import csv\n",
        "import pandas as pd\n",
        "import numpy as np"
      ],
      "metadata": {
        "id": "QmE5hLR-4ZfL"
      },
      "execution_count": null,
      "outputs": []
    },
    {
      "cell_type": "code",
      "source": [
        "fire_dfs = []\n",
        "for i in range(1,8):\n",
        "  print(i)\n",
        "  fire_dfs.append(pd.read_csv('/content/drive/MyDrive/1.00 Project/Fire Data/fire{0}.csv'.format(i)))\n",
        "\n",
        "bio_dfs = []\n",
        "for i in range(1,18):\n",
        "  bio_dfs.append(pd.read_csv('/content/drive/MyDrive/1.00 Project/Biodiversity Data/updatedBio{0}.csv'.format(i)))"
      ],
      "metadata": {
        "colab": {
          "base_uri": "https://localhost:8080/"
        },
        "id": "Gf9w1zNa4WzL",
        "outputId": "cbcfd246-d1eb-47db-d694-f3503732cb3d"
      },
      "execution_count": null,
      "outputs": [
        {
          "output_type": "stream",
          "name": "stdout",
          "text": [
            "1\n"
          ]
        },
        {
          "output_type": "stream",
          "name": "stderr",
          "text": [
            "<ipython-input-11-7b8d6c5fab0d>:4: DtypeWarning: Columns (8,11,12,14,15,35,37) have mixed types. Specify dtype option on import or set low_memory=False.\n",
            "  fire_dfs.append(pd.read_csv('/content/drive/MyDrive/1.00 Project/Fire Data/fire{0}.csv'.format(i)))\n"
          ]
        },
        {
          "output_type": "stream",
          "name": "stdout",
          "text": [
            "2\n"
          ]
        },
        {
          "output_type": "stream",
          "name": "stderr",
          "text": [
            "<ipython-input-11-7b8d6c5fab0d>:4: DtypeWarning: Columns (11,12,16,17,18,35,37) have mixed types. Specify dtype option on import or set low_memory=False.\n",
            "  fire_dfs.append(pd.read_csv('/content/drive/MyDrive/1.00 Project/Fire Data/fire{0}.csv'.format(i)))\n"
          ]
        },
        {
          "output_type": "stream",
          "name": "stdout",
          "text": [
            "3\n"
          ]
        },
        {
          "output_type": "stream",
          "name": "stderr",
          "text": [
            "<ipython-input-11-7b8d6c5fab0d>:4: DtypeWarning: Columns (10,11,12,13,14,15,18) have mixed types. Specify dtype option on import or set low_memory=False.\n",
            "  fire_dfs.append(pd.read_csv('/content/drive/MyDrive/1.00 Project/Fire Data/fire{0}.csv'.format(i)))\n"
          ]
        },
        {
          "output_type": "stream",
          "name": "stdout",
          "text": [
            "4\n"
          ]
        },
        {
          "output_type": "stream",
          "name": "stderr",
          "text": [
            "<ipython-input-11-7b8d6c5fab0d>:4: DtypeWarning: Columns (10,11,12,13,14,15,18,35,37) have mixed types. Specify dtype option on import or set low_memory=False.\n",
            "  fire_dfs.append(pd.read_csv('/content/drive/MyDrive/1.00 Project/Fire Data/fire{0}.csv'.format(i)))\n"
          ]
        },
        {
          "output_type": "stream",
          "name": "stdout",
          "text": [
            "5\n"
          ]
        },
        {
          "output_type": "stream",
          "name": "stderr",
          "text": [
            "<ipython-input-11-7b8d6c5fab0d>:4: DtypeWarning: Columns (10,11,12,13,14,15,16,17,18,35,37) have mixed types. Specify dtype option on import or set low_memory=False.\n",
            "  fire_dfs.append(pd.read_csv('/content/drive/MyDrive/1.00 Project/Fire Data/fire{0}.csv'.format(i)))\n"
          ]
        },
        {
          "output_type": "stream",
          "name": "stdout",
          "text": [
            "6\n"
          ]
        },
        {
          "output_type": "stream",
          "name": "stderr",
          "text": [
            "<ipython-input-11-7b8d6c5fab0d>:4: DtypeWarning: Columns (11,12,13,14,15,16,17,18) have mixed types. Specify dtype option on import or set low_memory=False.\n",
            "  fire_dfs.append(pd.read_csv('/content/drive/MyDrive/1.00 Project/Fire Data/fire{0}.csv'.format(i)))\n"
          ]
        },
        {
          "output_type": "stream",
          "name": "stdout",
          "text": [
            "7\n"
          ]
        },
        {
          "output_type": "stream",
          "name": "stderr",
          "text": [
            "<ipython-input-11-7b8d6c5fab0d>:4: DtypeWarning: Columns (11,12,14,18,35,37) have mixed types. Specify dtype option on import or set low_memory=False.\n",
            "  fire_dfs.append(pd.read_csv('/content/drive/MyDrive/1.00 Project/Fire Data/fire{0}.csv'.format(i)))\n",
            "<ipython-input-11-7b8d6c5fab0d>:8: DtypeWarning: Columns (8,11) have mixed types. Specify dtype option on import or set low_memory=False.\n",
            "  bio_dfs.append(pd.read_csv('/content/drive/MyDrive/1.00 Project/Biodiversity Data/updatedBio{0}.csv'.format(i)))\n",
            "<ipython-input-11-7b8d6c5fab0d>:8: DtypeWarning: Columns (8,11) have mixed types. Specify dtype option on import or set low_memory=False.\n",
            "  bio_dfs.append(pd.read_csv('/content/drive/MyDrive/1.00 Project/Biodiversity Data/updatedBio{0}.csv'.format(i)))\n"
          ]
        }
      ]
    },
    {
      "cell_type": "code",
      "source": [
        "fire_dfs_shorter = []\n",
        "bio_dfs_shorter = []"
      ],
      "metadata": {
        "id": "FMap_JRp4bL2"
      },
      "execution_count": null,
      "outputs": []
    },
    {
      "cell_type": "code",
      "source": [
        "for fire_df in fire_dfs:\n",
        "  fire_df = fire_df.drop([ '1', '2', '3', '4', '5', '6', '7', '8', '9', '10', '11', '13', '14', '15', '16', '17', '18', '20', '21', '22', '23', '24', '25', '26', '27', '29',  '32', '33', '34', '35', '36', '37', '38'], axis= 1)\n",
        "  fire_dfs_shorter.append(fire_df)\n",
        "for bio_df in bio_dfs:\n",
        "  bio_df = bio_df.drop(['kingdom', 'phylum', 'class', 'order', 'family', 'genus',  'locality', 'occurrenceStatus', 'individualCount',  'coordinateUncertaintyInMeters'],axis =1)\n",
        "  bio_df = bio_df[(bio_df['year']>=1992) & (bio_df['year']<=2015)]\n",
        "  bio_dfs_shorter.append(bio_df)\n"
      ],
      "metadata": {
        "id": "JLfQUYAk4e1T"
      },
      "execution_count": null,
      "outputs": []
    },
    {
      "cell_type": "code",
      "source": [
        "print(len(fire_dfs))"
      ],
      "metadata": {
        "id": "9CoPYOU26UJy",
        "outputId": "9bcc7800-5157-4775-c064-3041f4f0db7f",
        "colab": {
          "base_uri": "https://localhost:8080/"
        }
      },
      "execution_count": null,
      "outputs": [
        {
          "output_type": "stream",
          "name": "stdout",
          "text": [
            "7\n"
          ]
        }
      ]
    },
    {
      "cell_type": "code",
      "source": [
        "for i, bio_df in enumerate(bio_dfs_shorter):\n",
        "  bio_df.to_csv('/content/drive/MyDrive/1.00 Project/Data/shortened_bio_data{0}.csv'.format(i), mode='w', index=False, header=bio_df.keys())\n",
        "\n",
        "for i, fire_df in enumerate(fire_dfs_shorter):\n",
        "  fire_df.to_csv('/content/drive/MyDrive/1.00 Project/Data/shortened_fire_data{0}.csv'.format(i), mode='w', index=False, header=['0','12','19','28','30','31'])\n",
        "\n"
      ],
      "metadata": {
        "id": "jYxv04Ft4j20"
      },
      "execution_count": null,
      "outputs": []
    }
  ]
}