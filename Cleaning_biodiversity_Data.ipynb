{
  "nbformat": 4,
  "nbformat_minor": 0,
  "metadata": {
    "colab": {
      "provenance": [],
      "authorship_tag": "ABX9TyOb0u6T2Q5KJfQd3UB+/F4S",
      "include_colab_link": true
    },
    "kernelspec": {
      "name": "python3",
      "display_name": "Python 3"
    },
    "language_info": {
      "name": "python"
    }
  },
  "cells": [
    {
      "cell_type": "markdown",
      "metadata": {
        "id": "view-in-github",
        "colab_type": "text"
      },
      "source": [
        "<a href=\"https://colab.research.google.com/github/kzhector/1.00Project/blob/main/Cleaning_biodiversity_Data.ipynb\" target=\"_parent\"><img src=\"https://colab.research.google.com/assets/colab-badge.svg\" alt=\"Open In Colab\"/></a>"
      ]
    },
    {
      "cell_type": "code",
      "source": [
        "from google.colab import drive\n",
        "drive.mount('/content/drive')"
      ],
      "metadata": {
        "colab": {
          "base_uri": "https://localhost:8080/"
        },
        "id": "iFc3FRoi3nNo",
        "outputId": "bba6e8bd-5ed0-41b2-e092-03e1f031af40"
      },
      "execution_count": null,
      "outputs": [
        {
          "output_type": "stream",
          "name": "stdout",
          "text": [
            "Mounted at /content/drive\n"
          ]
        }
      ]
    },
    {
      "cell_type": "code",
      "execution_count": null,
      "metadata": {
        "id": "c0GA7Hyng0p8"
      },
      "outputs": [],
      "source": [
        "import csv\n",
        "import sys\n",
        "import os\n",
        "import re\n",
        "import argparse\n",
        "import pandas as pd\n",
        "import numpy as np\n",
        "import matplotlib.pyplot as plt\n",
        "import seaborn as sns\n",
        "import scipy.stats as stats"
      ]
    },
    {
      "cell_type": "markdown",
      "source": [
        "Get Keys\n"
      ],
      "metadata": {
        "id": "EpDRvGI60sRz"
      }
    },
    {
      "cell_type": "code",
      "source": [
        "with open('/content/drive/MyDrive/1.00 Project/Biodiversity Data/Bio1.csv', 'r') as f:\n",
        "    reader = csv.reader(f)\n",
        "    data = list(reader)\n",
        "keys =data[0][0].split('\\t')\n",
        "listoflocforkeys = []\n",
        "list_of_keys = ['decimalLatitude','decimalLongitude','coordinateUncertaintyInMeters','countryCode', 'locality', 'stateProvince', 'occurrenceStatus', 'individualCount','kingdom', 'phylum', 'class', 'order', 'family', 'genus', 'species','eventDate', 'day', 'month', 'year' ]\n",
        "for i, key in enumerate(keys):\n",
        "  if key not in list_of_keys:\n",
        "    listoflocforkeys.append(i)\n",
        "\n",
        "i = 0\n",
        "for num in listoflocforkeys:\n",
        "  keys.pop(num-i)\n",
        "  i+=1\n",
        "\n",
        "print(keys)\n",
        "#remove header\n",
        "data.pop(0)\n",
        "#split each row at the backslash t\n",
        "for i in range(0, len(data)):\n",
        "    string = data[i]\n",
        "    if len(string) == 2:\n",
        "      data[i] = string[0].split('\\t')  + string[1].split('\\t')\n",
        "    if len(string) == 1:\n",
        "      data[i] = string[0].split('\\t')\n",
        "\n",
        "\n",
        "#remove rows without 51 columns\n",
        "k = len(data)\n",
        "j = 0\n",
        "for i in range(0, k):\n",
        "    if len(data[i-j]) != 51:\n",
        "        data.pop(i-j)\n",
        "        j+=1\n",
        "\n",
        "k = len(data)\n",
        "for i in range(0, k):\n",
        "  j=0\n",
        "  string = data[i]\n",
        "  for num in listoflocforkeys:\n",
        "\n",
        "    if num <= 12:\n",
        "      string.pop(num-j)\n",
        "      j+=1\n",
        "    if num > 12:\n",
        "      string.pop(num+1-j)\n",
        "      j+=1\n",
        "      \n",
        "#remove column 8\n",
        "k = len(data)\n",
        "for i in range(0, k):\n",
        "  string = data[i]\n",
        "  string.pop(7)\n",
        "\n",
        "print(data[1])\n",
        "#write new csv file\n",
        "with open('/content/drive/MyDrive/1.00 Project/Biodiversity Data/updatedBio1.csv'.format(i), 'w') as f:\n",
        "    writer = csv.writer(f)\n",
        "    writer.writerow(keys)\n",
        "    writer.writerows(data)"
      ],
      "metadata": {
        "colab": {
          "base_uri": "https://localhost:8080/"
        },
        "id": "e7F90Qfq0kfd",
        "outputId": "d8c17204-0d06-4179-fe11-3809e6bc3e16"
      },
      "execution_count": null,
      "outputs": [
        {
          "output_type": "stream",
          "name": "stdout",
          "text": [
            "['kingdom', 'phylum', 'class', 'order', 'family', 'genus', 'species', 'countryCode', 'locality', 'stateProvince', 'occurrenceStatus', 'individualCount', 'decimalLatitude', 'decimalLongitude', 'coordinateUncertaintyInMeters', 'eventDate', 'day', 'month', 'year']\n",
            "['Animalia', 'Arthropoda', 'Insecta', 'Lepidoptera', 'Nymphalidae', 'Polygonia', 'Polygonia comma', 'US', '', 'Virginia', 'PRESENT', '', '38.88074', '-77.09047', '730.0', '2015-06-07T18:22:00', '7', '6', '2015']\n"
          ]
        }
      ]
    },
    {
      "cell_type": "markdown",
      "source": [
        "Look at rest of the 17 datasets\n"
      ],
      "metadata": {
        "id": "FnvcXWWS102-"
      }
    },
    {
      "cell_type": "code",
      "source": [
        "#read csv file\n",
        "for z in range (2,18):\n",
        "  with open('/content/drive/MyDrive/1.00 Project/Biodiversity Data/Bio{0}.csv'.format(z), 'r') as f:\n",
        "      reader = csv.reader(f)\n",
        "      data = list(reader)\n",
        "\n",
        "\n",
        "  #split each row at the backslash t\n",
        "  for i in range(0, len(data)):\n",
        "      string = data[i]\n",
        "      if len(string) == 2:\n",
        "        data[i] = string[0].split('\\t')  + string[1].split('\\t')\n",
        "      if len(string) ==1:\n",
        "        data[i] = string[0].split('\\t')\n",
        "\n",
        "  #remove rows without 51 columns\n",
        "  k = len(data)\n",
        "  j = 0\n",
        "  for i in range(0, k):\n",
        "      if len(data[i-j]) != 51:\n",
        "          data.pop(i-j)\n",
        "          j+=1\n",
        "\n",
        "  #for each row only keep the ones in key locations\n",
        "  #every index aboev 12 has to go up a number due to the way the list was split\n",
        "  k = len(data)\n",
        "  for i in range(0, k):\n",
        "    j=0\n",
        "    string = data[i]\n",
        "    for num in listoflocforkeys:\n",
        "\n",
        "      if num <= 12:\n",
        "        string.pop(num-j)\n",
        "        j+=1\n",
        "      if num > 12:\n",
        "        string.pop(num+1-j)\n",
        "        j+=1\n",
        "        \n",
        "\n",
        "\n",
        "  #remove column 8\n",
        "  k = len(data)\n",
        "  for i in range(0, k):\n",
        "    string = data[i]\n",
        "    string.pop(7)\n",
        "\n",
        "\n",
        "  #write new csv file\n",
        "  with open('/content/drive/MyDrive/1.00 Project/Biodiversity Data/updatedBio{0}.csv'.format(z), 'w') as f:\n",
        "      writer = csv.writer(f)\n",
        "      writer.writerow(keys)\n",
        "      writer.writerows(data)\n"
      ],
      "metadata": {
        "id": "KCWu0siM3bYL"
      },
      "execution_count": null,
      "outputs": []
    }
  ]
}