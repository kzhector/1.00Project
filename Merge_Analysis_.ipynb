{
  "cells": [
    {
      "cell_type": "markdown",
      "metadata": {
        "id": "view-in-github",
        "colab_type": "text"
      },
      "source": [
        "<a href=\"https://colab.research.google.com/github/kzhector/1.00Project/blob/main/Merge_Analysis_.ipynb\" target=\"_parent\"><img src=\"https://colab.research.google.com/assets/colab-badge.svg\" alt=\"Open In Colab\"/></a>"
      ]
    },
    {
      "cell_type": "code",
      "execution_count": null,
      "metadata": {
        "colab": {
          "base_uri": "https://localhost:8080/"
        },
        "id": "KcZc-fccREcx",
        "outputId": "9d28b542-ba61-4c7f-8caa-bd57e3a1e41b"
      },
      "outputs": [
        {
          "output_type": "stream",
          "name": "stdout",
          "text": [
            "Drive already mounted at /content/drive; to attempt to forcibly remount, call drive.mount(\"/content/drive\", force_remount=True).\n"
          ]
        }
      ],
      "source": [
        "from google.colab import drive\n",
        "drive.mount('/content/drive')"
      ]
    },
    {
      "cell_type": "code",
      "execution_count": null,
      "metadata": {
        "id": "E9hRMVrBRJ3A"
      },
      "outputs": [],
      "source": [
        "import csv\n",
        "import pandas as pd\n",
        "import numpy as np"
      ]
    },
    {
      "cell_type": "markdown",
      "source": [
        "Try using the sql database data instead\n",
        "\n"
      ],
      "metadata": {
        "id": "TprmhYLWRvot"
      }
    },
    {
      "cell_type": "code",
      "source": [
        "#fire_data = pd.DataFrame({'FOD_ID':[],'FPA_ID':[], 'SOURCE_SYSTEM_TYPE':[], 'SOURCE_SYSTEM':[], 'NWCG_REPORTING_AGENCY' :[],'NWCG_REPORTING_UNIT_ID' :[],'NWCG_REPORTING_UNIT_NAME' :[],'SOURCE_REPORTING_UNIT' :[],'SOURCE_REPORTING_UNIT_NAME' :[],'LOCAL_FIRE_REPORT_ID' :[],'LOCAL_INCIDENT_ID' :[],'FIRE_CODE' :[],'FIRE_NAME' :[],'ICS_209_INCIDENT_NUMBER' :[],'ICS_209_NAME' :[],'MTBS_ID' :[],'MTBS_FIRE_NAME' :[],'COMPLEX_NAME' :[],'DISCOVERY_DATE':[],'DISCOVERY_DOY' :[],'DISCOVERY_TIME' :[],'STAT_CAUSE_CODE' :[],'STAT_CAUSE_DESCR' :[],'CONT_DATE' :[],'CONT_DOY' :[],'CONT_TIME' :[],'FIRE_SIZE' :[],'FIRE_SIZE_CLASS':[],'LATITUDE' :[],'LONGITUDE' :[],'OWNER_CODE' :[],'OWNER_DESCR':[] ,'STATE' :[],'COUNTY':[],'FIPS_CODE' :[],'FIPS_NAME' :[]})"
      ],
      "metadata": {
        "id": "m4VpTqO3S1I9"
      },
      "execution_count": null,
      "outputs": []
    },
    {
      "cell_type": "code",
      "source": [
        "for i in range(0,7):\n",
        "  print(i)\n",
        "  #0-3 40,000\n",
        "  #4 25,000\n",
        "  \"\"\"\n",
        "  if i < 4:\n",
        "    chunk = 40000\n",
        "  elif i == 4:\n",
        "    chunk = 25000\n",
        "  elif i > 4:\n",
        "    chunk = 15000\n",
        "  \"\"\"\n",
        "  with open('/content/drive/MyDrive/1.00 Project/Beginning/Beginning{0}.csv'.format(i), 'w') as f:\n",
        "    writer = csv.writer(f)\n",
        "    f.close()\n",
        "  with open('/content/drive/MyDrive/1.00 Project/End/End{0}.csv'.format(i), 'w') as f:\n",
        "      writer = csv.writer(f)\n",
        "      f.close()\n",
        "  with pd.read_csv('/content/drive/MyDrive/1.00 Project/Data/shortened_fire_data{0}.csv'.format(i), chunksize = 10000) as reader:\n",
        "    for fire_df in reader:\n",
        "\n",
        "      fire_df = fire_df.rename(columns = {'19':'year'})\n",
        "      fire_df = fire_df.sort_values('year')\n",
        "      for j in range(0,17):\n",
        "        with pd.read_csv('/content/drive/MyDrive/1.00 Project/Data/shortened_bio_data{0}.csv'.format(j), chunksize = 10000) as reader:\n",
        "          for bio_df in reader:\n",
        "        \n",
        "            #bio_df = pd.DataFrame(np.repeat(new_df.values, 10, axis=0))\n",
        "            #bio_df.columns = new_df.columns\n",
        "        \n",
        "            bio_df = bio_df.sort_values('year')\n",
        "            t = pd.merge(bio_df,fire_df, how='outer' ,on = 'year')\n",
        "\n",
        "\n",
        "            january = t[(t.decimalLatitude >= t['30'].astype(float) - t['28'].astype(float)/(640*69))&(t.decimalLatitude <= t['30'].astype(float) + t['28'].astype(float)/(640*69))&(t.decimalLongitude >= t['31'].astype(float) - t['28'].astype(float)/(640*54.6))&(t.decimalLongitude <= t['31'].astype(float) + t['28'].astype(float)/(640*54.6)) &(t.month >= 1) &(t.month <= 5) ]\n",
        "            december = t[(t.decimalLatitude >= t['30'].astype(float) - t['28'].astype(float)/(640*69))&(t.decimalLatitude <= t['30'].astype(float) + t['28'].astype(float)/(640*69))&(t.decimalLongitude >= t['31'].astype(float) - t['28'].astype(float)/(640*54.6))&(t.decimalLongitude <= t['31'].astype(float) + t['28'].astype(float)/(640*54.6)) &(t.month >= 11) &(t.month <= 12) ]\n",
        "\n",
        "            #december = t[(t.decimalLatitude >= t['30'].astype(float) - 0.1)&(t.decimalLatitude <= t['30'].astype(float) + 0.1) &(t.decimalLongitude >= t['31'].astype(float) - 0.1)&(t.decimalLongitude <= t['31'].astype(float) + 0.1) &(t.month >= 11) &(t.month <= 12) ]\n",
        "            if january.species.empty != True and december.species.empty != True:\n",
        "              january.to_csv('/content/drive/MyDrive/1.00 Project/Beginning/Beginning{0}.csv'.format(i), mode='a', index=False, header=False)\n",
        "              december.to_csv('/content/drive/MyDrive/1.00 Project/End/End{0}.csv'.format(i), mode='a', index=False, header=False)\n",
        "          \n",
        "\n"
      ],
      "metadata": {
        "colab": {
          "base_uri": "https://localhost:8080/"
        },
        "id": "teBGUKCpimT-",
        "outputId": "70fb9ca7-3069-41e7-daeb-b376abc9d517"
      },
      "execution_count": null,
      "outputs": [
        {
          "metadata": {
            "tags": null
          },
          "name": "stdout",
          "output_type": "stream",
          "text": [
            "6\n"
          ]
        }
      ]
    }
  ],
  "metadata": {
    "colab": {
      "provenance": [],
      "authorship_tag": "ABX9TyPRgjm9ZRY5B4AGlImIJ8pw",
      "include_colab_link": true
    },
    "kernelspec": {
      "display_name": "Python 3",
      "name": "python3"
    },
    "language_info": {
      "name": "python"
    }
  },
  "nbformat": 4,
  "nbformat_minor": 0
}