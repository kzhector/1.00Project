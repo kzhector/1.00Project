{
  "nbformat": 4,
  "nbformat_minor": 0,
  "metadata": {
    "colab": {
      "provenance": [],
      "authorship_tag": "ABX9TyMyT4F5DN3dSblRCv3Zcv6J",
      "include_colab_link": true
    },
    "kernelspec": {
      "name": "python3",
      "display_name": "Python 3"
    },
    "language_info": {
      "name": "python"
    }
  },
  "cells": [
    {
      "cell_type": "markdown",
      "metadata": {
        "id": "view-in-github",
        "colab_type": "text"
      },
      "source": [
        "<a href=\"https://colab.research.google.com/github/kzhector/1.00Project/blob/main/Cleaning_Analyzed_Data.ipynb\" target=\"_parent\"><img src=\"https://colab.research.google.com/assets/colab-badge.svg\" alt=\"Open In Colab\"/></a>"
      ]
    },
    {
      "cell_type": "code",
      "execution_count": null,
      "metadata": {
        "colab": {
          "base_uri": "https://localhost:8080/"
        },
        "id": "jSq7LIWOpv7G",
        "outputId": "b732340e-1034-4c6e-d5a1-3c32aadc34f0"
      },
      "outputs": [
        {
          "output_type": "stream",
          "name": "stdout",
          "text": [
            "Mounted at /content/drive\n"
          ]
        }
      ],
      "source": [
        "from google.colab import drive\n",
        "drive.mount('/content/drive')"
      ]
    },
    {
      "cell_type": "code",
      "source": [
        "import csv\n",
        "import pandas as pd\n",
        "import numpy as np"
      ],
      "metadata": {
        "id": "IE_AvwP8p0Xj"
      },
      "execution_count": null,
      "outputs": []
    },
    {
      "cell_type": "code",
      "source": [
        "keys = ['species', 'country', 'state','bio_lat', 'bio_lon', 'bio_date', 'bio_day', 'bio_month', 'year', 'FOD_ID', 'FIRE_CODE', 'Acres_Burned', 'fire_lat','fire_lon']"
      ],
      "metadata": {
        "id": "HZHvGSrwqJNC"
      },
      "execution_count": null,
      "outputs": []
    },
    {
      "cell_type": "code",
      "source": [
        "for year in range(1992,2016):\n",
        "  with open('/content/drive/MyDrive/1.00 Project/Analyzed By Year/B{0}.csv'.format(year), mode = 'w') as f:\n",
        "      writer = csv.writer(f)\n",
        "      writer.writerow(keys)\n",
        "      f.close()\n",
        "  with open('/content/drive/MyDrive/1.00 Project/Analyzed By Year/E{0}.csv'.format(year), mode = 'w') as f:\n",
        "      writer = csv.writer(f)\n",
        "      writer.writerow(keys)\n",
        "      f.close()"
      ],
      "metadata": {
        "id": "KYBkZnFep8DS"
      },
      "execution_count": null,
      "outputs": []
    },
    {
      "cell_type": "code",
      "source": [
        "\n",
        "for i in range(0,7):\n",
        "  b4 = pd.read_csv('/content/drive/MyDrive/1.00 Project/Beginning{0}.csv'.format(i))\n",
        "  b4.columns = keys\n",
        "  after = pd.read_csv('/content/drive/MyDrive/1.00 Project/End{0}.csv'.format(i))\n",
        "  after.columns = keys\n",
        "  gb4 = b4.groupby('year')\n",
        "  gafter = after.groupby('year')\n",
        "\n",
        "  for year in np.unique(b4['year']):\n",
        "    print(year)\n",
        "    new_row = gb4.get_group(year)\n",
        "    new_row.to_csv('/content/drive/MyDrive/1.00 Project/Analyzed By Year/B{0}.csv'.format(year), mode='a', index=False, header=False)\n",
        "  for year in np.unique(after['year']):\n",
        "    print(year)\n",
        "    new_row = gafter.get_group(year)\n",
        "    new_row.to_csv('/content/drive/MyDrive/1.00 Project/Analyzed By Year/E{0}.csv'.format(year), mode='a', index=False, header=False)\n",
        "\n"
      ],
      "metadata": {
        "colab": {
          "base_uri": "https://localhost:8080/"
        },
        "id": "mFmc2hNzp5oK",
        "outputId": "05132931-ee56-4360-9f01-3f18553a1d80"
      },
      "execution_count": null,
      "outputs": [
        {
          "output_type": "stream",
          "name": "stdout",
          "text": [
            "1993\n",
            "1995\n",
            "1998\n",
            "2006\n",
            "2011\n",
            "2012\n",
            "2013\n",
            "2014\n",
            "2015\n",
            "2001\n",
            "2011\n",
            "2012\n",
            "2013\n",
            "2014\n",
            "2015\n"
          ]
        }
      ]
    }
  ]
}